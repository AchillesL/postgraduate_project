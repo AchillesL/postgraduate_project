{
 "cells": [
  {
   "cell_type": "code",
   "execution_count": 1,
   "metadata": {},
   "outputs": [
    {
     "ename": "ImportError",
     "evalue": "DLL load failed while importing cv2: 动态链接库(DLL)初始化例程失败。",
     "output_type": "error",
     "traceback": [
      "\u001b[1;31m---------------------------------------------------------------------------\u001b[0m",
      "\u001b[1;31mImportError\u001b[0m                               Traceback (most recent call last)",
      "\u001b[1;32m<ipython-input-1-13335f3c3672>\u001b[0m in \u001b[0;36m<module>\u001b[1;34m\u001b[0m\n\u001b[0;32m      1\u001b[0m \u001b[1;32mimport\u001b[0m \u001b[0mnumpy\u001b[0m \u001b[1;32mas\u001b[0m \u001b[0mnp\u001b[0m\u001b[1;33m\u001b[0m\u001b[1;33m\u001b[0m\u001b[0m\n\u001b[0;32m      2\u001b[0m \u001b[1;32mimport\u001b[0m \u001b[0mmatplotlib\u001b[0m\u001b[1;33m.\u001b[0m\u001b[0mpyplot\u001b[0m \u001b[1;32mas\u001b[0m \u001b[0mplt\u001b[0m\u001b[1;33m\u001b[0m\u001b[1;33m\u001b[0m\u001b[0m\n\u001b[1;32m----> 3\u001b[1;33m \u001b[1;32mimport\u001b[0m \u001b[0mcv2\u001b[0m\u001b[1;33m\u001b[0m\u001b[1;33m\u001b[0m\u001b[0m\n\u001b[0m\u001b[0;32m      4\u001b[0m \u001b[1;33m\u001b[0m\u001b[0m\n\u001b[0;32m      5\u001b[0m \u001b[1;31m#读取Lena图像\u001b[0m\u001b[1;33m\u001b[0m\u001b[1;33m\u001b[0m\u001b[1;33m\u001b[0m\u001b[0m\n",
      "\u001b[1;32mD:\\ProgramData\\Anaconda3\\lib\\site-packages\\cv2\\__init__.py\u001b[0m in \u001b[0;36m<module>\u001b[1;34m\u001b[0m\n\u001b[0;32m     94\u001b[0m     \u001b[1;32mif\u001b[0m \u001b[0mDEBUG\u001b[0m\u001b[1;33m:\u001b[0m \u001b[0mprint\u001b[0m\u001b[1;33m(\u001b[0m\u001b[1;34m'OpenCV loader: DONE'\u001b[0m\u001b[1;33m)\u001b[0m\u001b[1;33m\u001b[0m\u001b[1;33m\u001b[0m\u001b[0m\n\u001b[0;32m     95\u001b[0m \u001b[1;33m\u001b[0m\u001b[0m\n\u001b[1;32m---> 96\u001b[1;33m \u001b[0mbootstrap\u001b[0m\u001b[1;33m(\u001b[0m\u001b[1;33m)\u001b[0m\u001b[1;33m\u001b[0m\u001b[1;33m\u001b[0m\u001b[0m\n\u001b[0m",
      "\u001b[1;32mD:\\ProgramData\\Anaconda3\\lib\\site-packages\\cv2\\__init__.py\u001b[0m in \u001b[0;36mbootstrap\u001b[1;34m()\u001b[0m\n\u001b[0;32m     84\u001b[0m     \u001b[1;32mif\u001b[0m \u001b[0mDEBUG\u001b[0m\u001b[1;33m:\u001b[0m \u001b[0mprint\u001b[0m\u001b[1;33m(\u001b[0m\u001b[1;34m'OpenCV loader: replacing cv2 module'\u001b[0m\u001b[1;33m)\u001b[0m\u001b[1;33m\u001b[0m\u001b[1;33m\u001b[0m\u001b[0m\n\u001b[0;32m     85\u001b[0m     \u001b[1;32mdel\u001b[0m \u001b[0msys\u001b[0m\u001b[1;33m.\u001b[0m\u001b[0mmodules\u001b[0m\u001b[1;33m[\u001b[0m\u001b[1;34m'cv2'\u001b[0m\u001b[1;33m]\u001b[0m\u001b[1;33m\u001b[0m\u001b[1;33m\u001b[0m\u001b[0m\n\u001b[1;32m---> 86\u001b[1;33m     \u001b[1;32mimport\u001b[0m \u001b[0mcv2\u001b[0m\u001b[1;33m\u001b[0m\u001b[1;33m\u001b[0m\u001b[0m\n\u001b[0m\u001b[0;32m     87\u001b[0m \u001b[1;33m\u001b[0m\u001b[0m\n\u001b[0;32m     88\u001b[0m     \u001b[1;32mtry\u001b[0m\u001b[1;33m:\u001b[0m\u001b[1;33m\u001b[0m\u001b[1;33m\u001b[0m\u001b[0m\n",
      "\u001b[1;31mImportError\u001b[0m: DLL load failed while importing cv2: 动态链接库(DLL)初始化例程失败。"
     ]
    }
   ],
   "source": [
    "import numpy as np\n",
    "import matplotlib.pyplot as plt\n",
    "import cv2\n",
    "\n",
    "#读取Lena图像\n",
    "img = cv2.imread(r\"C:\\Users\\Administrator\\Desktop\\lena.png\")\n",
    "img = img[:, :, ::-1]\n",
    "\n",
    "angle = 48 * np.pi / 180\n",
    "\n",
    "h,w = img.shape[0],img.shape[1]\n",
    "newW = int(w * abs(np.cos(angle)) + h* abs(np.sin(angle))) + 1\n",
    "newH = int(w * abs(np.sin(angle)) + h* abs(np.cos(angle))) + 1\n",
    "\n",
    "print(newW,newH)\n",
    "\n",
    "newImg = np.zeros((newW,newH,3),dtype = np.int16)\n",
    "newImg2 = np.zeros((newW,newH,3),dtype = np.int16)\n",
    "\n",
    "#前向映射\n",
    "trans1 = np.array([[1,0,0],[0,-1,0],[-1 * w / 2,h /2,1]])\n",
    "trans1 = trans1.dot(np.array([[np.cos(angle),-np.sin(angle),0],[np.sin(angle),np.cos(angle),0],[0,0,1]]))\n",
    "trans1 = trans1.dot(np.array([[1,0,0],[0,-1,0],[0.5*newW,0.5*newH,1]]))\n",
    "\n",
    "#后向映射\n",
    "trans2 = np.array([[1,0,0],[0,-1,0],[-0.5*newW,0.5*newH,1]])\n",
    "trans2 = trans2.dot(np.array([[np.cos(angle),np.sin(angle),0],[-np.sin(angle),np.cos(angle),0],[0,0,1]]))\n",
    "trans2 = trans2.dot(np.array([[1,0,0],[0,-1,0],[0.5*w,0.5*h,1]]))\n",
    "\n",
    "for x in range(w):\n",
    "    for y in range(h):\n",
    "        newPos = np.array([x,y,1]).dot(trans1)\n",
    "        newImg[int(newPos[1])][int(newPos[0])] = img[y][x]\n",
    "\n",
    "for x in range(newW):\n",
    "    for y in range(newH):\n",
    "        sPos = np.array([x,y,1]).dot(trans2)\n",
    "        if sPos[0] >= 0 and sPos[0] < w and sPos[1] >= 0 and sPos[1] < h:\n",
    "            # 最邻近内插\n",
    "            sPos[1] = sPos[1] if sPos[1]+0.5>=h else sPos[1]+0.5\n",
    "            sPos[0] = sPos[0] if sPos[0]+0.5>=w else sPos[0]+0.5\n",
    "            \n",
    "            newImg2[y][x] = img[int(sPos[1])][int(sPos[0])]\n",
    "\n",
    "newImg = newImg[:, :, ::-1]\n",
    "newImg2 = newImg2[:, :, ::-1]\n",
    "\n",
    "cv2.imwrite(r\"C:\\Users\\Administrator\\Desktop\\lena1.png\",newImg)\n",
    "cv2.imwrite(r\"C:\\Users\\Administrator\\Desktop\\lena2.png\",newImg2)"
   ]
  },
  {
   "cell_type": "code",
   "execution_count": 8,
   "metadata": {},
   "outputs": [
    {
     "name": "stdout",
     "output_type": "stream",
     "text": [
      "679 674\n"
     ]
    }
   ],
   "source": [
    "angle = -30 * 3.14159 / 180\n",
    "\n",
    "h,w = 488,502\n",
    "newW = int(w * abs(np.cos(angle)) + h* abs(np.sin(angle))) + 1\n",
    "newH = int(w * abs(np.sin(angle)) + h* abs(np.cos(angle))) + 1\n",
    "print(newW,newH)\n"
   ]
  },
  {
   "cell_type": "code",
   "execution_count": null,
   "metadata": {},
   "outputs": [],
   "source": []
  },
  {
   "cell_type": "code",
   "execution_count": null,
   "metadata": {},
   "outputs": [],
   "source": []
  }
 ],
 "metadata": {
  "kernelspec": {
   "display_name": "Python 3",
   "language": "python",
   "name": "python3"
  },
  "language_info": {
   "codemirror_mode": {
    "name": "ipython",
    "version": 3
   },
   "file_extension": ".py",
   "mimetype": "text/x-python",
   "name": "python",
   "nbconvert_exporter": "python",
   "pygments_lexer": "ipython3",
   "version": "3.8.3"
  }
 },
 "nbformat": 4,
 "nbformat_minor": 4
}
